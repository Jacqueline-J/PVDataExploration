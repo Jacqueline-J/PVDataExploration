{
  "nbformat": 4,
  "nbformat_minor": 0,
  "metadata": {
    "colab": {
      "provenance": []
    },
    "kernelspec": {
      "name": "python3",
      "display_name": "Python 3"
    },
    "language_info": {
      "name": "python"
    }
  },
  "cells": [
    {
      "cell_type": "code",
      "execution_count": null,
      "metadata": {
        "id": "VtlUyiBOZEaE"
      },
      "outputs": [],
      "source": [
        "!pip install vaex\n",
        "!pip install --upgrade vaex\n",
        "!pip install dash\n",
        "!pip install rtree \n",
        "!pip install pygeos\n",
        "!pip install geopandas\n",
        "!pip install folium matplotlib mapclassify geopandas -q -q -q\n",
        "!pip install folium matplotlib mapclassify -q -q -q"
      ]
    },
    {
      "cell_type": "code",
      "source": [
        "# Have to restart runtime for this to work\n",
        "import vaex as vx\n",
        "import pyarrow.parquet as pq\n",
        "import matplotlib.pyplot as plt\n",
        "import seaborn as sns\n",
        "import pandas as pd\n",
        "import numpy as np\n",
        "import geopandas as gpd\n",
        "import pygeos\n",
        "import rtree\n",
        "import folium\n",
        "from branca.utilities import split_six"
      ],
      "metadata": {
        "id": "OivI-0GgZXh2"
      },
      "execution_count": null,
      "outputs": []
    },
    {
      "cell_type": "code",
      "source": [
        "# Load Datasets\n",
        "min5= vx.open('/content/5min.parquet')   # 5 min data\n",
        "metadata= pd.read_csv('metadata.csv') # Metadata\n",
        "energy_consumption= pd.read_csv('/content/energy_consumption.csv') # energy_consumption\n",
        "\n",
        "# Load data defining boundaries of UK Districts\n",
        "url= 'http://geoportal1-ons.opendata.arcgis.com/datasets/01fd6b2d7600446d8af768005992f76a_4.geojson'\n",
        "districts = gpd.read_file(url) "
      ],
      "metadata": {
        "id": "G1Bbv28KZXky"
      },
      "execution_count": null,
      "outputs": []
    },
    {
      "cell_type": "code",
      "source": [
        "# clean energy consumption \n",
        "energy_consumption['region']= energy_consumption['region'].str.replace(' ','') \n",
        "\n",
        "# Cleaning disticts df\n",
        "districts = districts[['nuts118nm','long','lat','geometry']]\n",
        "districts['nuts118nm']= districts['nuts118nm'].str.replace('England','').str.replace('(','').str.replace(')','').str.replace('of','').str.replace(' ','') # clean renaming colum with region names\n",
        "districts = districts.rename(columns={\"nuts118nm\": \"region\",\n",
        "                                      \"long\":\"district_long\",\n",
        "                                      \"lat\":\"district_lat\"}) "
      ],
      "metadata": {
        "id": "cikFfMC1ZXny"
      },
      "execution_count": null,
      "outputs": []
    },
    {
      "cell_type": "code",
      "source": [
        "# Decomposing date\n",
        "min5['day'],min5['month'],min5['year'] = min5.timestamp.dt.day, min5.timestamp.dt.month,min5.timestamp.dt.year,\n",
        "min5['hour'],min5['minute'],min5['second'] = min5.timestamp.dt.hour,  min5.timestamp.dt.minute, min5.timestamp.dt.second\n",
        "min5.head(2)"
      ],
      "metadata": {
        "id": "LW5twglQZXqz"
      },
      "execution_count": null,
      "outputs": []
    },
    {
      "cell_type": "code",
      "source": [
        "ss_id = min5.ss_id.unique()\n",
        "# Create a new dataframe with unique ss_id and info from metadata\n",
        "ssid_df = pd.DataFrame(ss_id,columns=['ss_id'])\n",
        "min5_meta  = ssid_df.merge(metadata, on='ss_id', how='left') # Merging 1 and 2\n",
        "min5_meta = min5_meta.dropna()"
      ],
      "metadata": {
        "id": "ns-szy6Q_0_i"
      },
      "execution_count": null,
      "outputs": []
    },
    {
      "cell_type": "code",
      "source": [
        "min5_meta_geo = gpd.GeoDataFrame(min5_meta,geometry=gpd.points_from_xy(min5_meta.longitude_rounded, \n",
        "                                                                  min5_meta.latitude_rounded))\n",
        "pv_geo = gpd.sjoin(min5_meta_geo, districts, op='within')\n"
      ],
      "metadata": {
        "id": "W-jCW3uRAC-X"
      },
      "execution_count": null,
      "outputs": []
    },
    {
      "cell_type": "markdown",
      "source": [
        "# Part2: How does power generated vary over time"
      ],
      "metadata": {
        "id": "bZtOqipidWom"
      }
    },
    {
      "cell_type": "code",
      "source": [
        "plot1 = min5.groupby(['ss_id','year']).agg({'generation_wh': 'mean'}).to_pandas_df().sort_values('year', ascending=False)\n",
        "\n",
        "plt.style.use('ggplot')\n",
        "palette={2018:'#36454F',2019:'#36454F',2020:'#36454F',2021:'#fada5e' }\n",
        "sns.barplot(x='year',y='generation_wh', data=plot1,hue='year', palette=palette)\n",
        "\n",
        "# titles\n",
        "plt.xlabel('Year') \n",
        "plt.ylabel('Average Power Generated')   \n",
        "plt.title(\"Average Power Generated by Year\")\n",
        "plt.legend(bbox_to_anchor=(1.05, 1), loc=2, borderaxespad=0.)\n",
        "plt.show()"
      ],
      "metadata": {
        "id": "xCR9m0wLpIrI"
      },
      "execution_count": null,
      "outputs": []
    },
    {
      "cell_type": "code",
      "source": [
        "# Number of pv systems operational in each year\n",
        "plt2 = min5.groupby(min5.year).agg({'ss_id': 'count'}).to_pandas_df() \n",
        "\n",
        "plt.style.use('ggplot')\n",
        "palette={2018:'#36454F',2019:'#36454F',2020:'#36454F',2021:'#fada5e' }\n",
        "\n",
        "sns.barplot(data=plt2, x='year', y='ss_id',hue='year', palette=palette)\n",
        "\n",
        "# titles\n",
        "plt.xlabel('Year') \n",
        "plt.ylabel('Count of Pv Systems')   \n",
        "plt.title(\"Count of Pv Systems by Year\")\n",
        "plt.legend(bbox_to_anchor=(1.05, 1), loc=2, borderaxespad=0.)\n",
        "plt.show()"
      ],
      "metadata": {
        "id": "n9WrtMk8ZXwa"
      },
      "execution_count": null,
      "outputs": []
    },
    {
      "cell_type": "markdown",
      "source": [
        "### Plotting Average Energy Generation by Year and Month"
      ],
      "metadata": {
        "id": "RFsRKluNAm5D"
      }
    },
    {
      "cell_type": "code",
      "source": [
        "# grouping data by ss_id, year and month, and finding the average power generated\n",
        "by_year_month = min5.groupby(['ss_id','year','month']).agg({'generation_wh': 'mean'}).to_pandas_df() \n",
        "# Combine data from table abouve with census data \n",
        "combined_month = by_year_month.merge(metadata, on='ss_id', how='left')\n",
        "# creating a colum for date for the plotty animation filter  \n",
        "combined_month[\"date\"] = combined_month['year'].astype(str) +\"-\"+ combined_month[\"month\"].astype(str)"
      ],
      "metadata": {
        "id": "AWvXaH0XZXze"
      },
      "execution_count": null,
      "outputs": []
    },
    {
      "cell_type": "code",
      "source": [
        " #Creating a graph that will show power generation in the UK by year and month\n",
        "import plotly.express as px\n",
        "\n",
        "fig = px.scatter_geo(combined_month, lat=\"latitude_rounded\", lon=\"longitude_rounded\", color=\"generation_wh\",\n",
        "                     hover_name=\"ss_id\", size=\"generation_wh\",\n",
        "                     animation_frame=\"date\",\n",
        "                     projection=\"natural earth\",\n",
        "                     scope ='europe',\n",
        "                     color_continuous_scale=[\"blue\", \"purple\", \"red\"],\n",
        "                     center=dict(lat=combined_month.latitude_rounded.mean(), lon=combined_month.longitude_rounded.mean()))\n",
        "\n",
        "fig.update_traces(marker=dict(size=10))\n",
        "fig.update_layout(autosize=True,height=600,geo=dict(projection_scale=6))\n",
        "fig.show()"
      ],
      "metadata": {
        "id": "TwRYc2LA4VJD"
      },
      "execution_count": null,
      "outputs": []
    },
    {
      "cell_type": "markdown",
      "source": [
        "### Plotting Average Energy Generation per Year by District"
      ],
      "metadata": {
        "id": "PbSx0p2_AqAJ"
      }
    },
    {
      "cell_type": "code",
      "source": [
        "# Consider averages by region\n",
        "avg_region = min5.groupby(['ss_id','year','month','hour']).agg({'generation_wh': 'mean'}).to_pandas_df().set_index('ss_id')\n",
        "\n",
        "# select only relevant columns\n",
        "ssid_region= pv_geo[['ss_id','region',]].set_index('ss_id')\n",
        "\n",
        "# join\n",
        "region_date_gen = avg_region.join(ssid_region, on='ss_id', how='left').reset_index()\n",
        "region_date_gen.head(2)"
      ],
      "metadata": {
        "id": "wuRu1kBtZX2U"
      },
      "execution_count": null,
      "outputs": []
    },
    {
      "cell_type": "code",
      "source": [
        "region_date_gen_year = region_date_gen.groupby(['region','year']).agg({'generation_wh': 'mean'}).reset_index()\n",
        "\n",
        "plt.figure(figsize=(40,20))\n",
        "ax = sns.barplot(data=region_date_gen_year, \n",
        "                 x='year',\n",
        "                 y='generation_wh',\n",
        "                 hue='region',\n",
        "                 palette=sns.color_palette('icefire'))\n",
        "\n",
        "plt.xlabel('Year') \n",
        "plt.ylabel('Average Power Generated (wh)')   \n",
        "plt.title(\"Average Power Generated (wh) by Year and District\")\n",
        "plt.legend(bbox_to_anchor=(1.05, 1), loc=2, borderaxespad=0.)\n",
        "plt.show()"
      ],
      "metadata": {
        "id": "eX9UlW14ZX5Q"
      },
      "execution_count": null,
      "outputs": []
    },
    {
      "cell_type": "markdown",
      "source": [
        "### Plotting Average Energy Generation by Month for 2019"
      ],
      "metadata": {
        "id": "1b6J9gY3AxjV"
      }
    },
    {
      "cell_type": "code",
      "source": [
        "# Selecting only 2019\n",
        "region_date_gen_2019 = region_date_gen[region_date_gen['year']==2019]\n",
        "region_date_gen_2019.head(2)"
      ],
      "metadata": {
        "id": "yqfGfogvZX-y"
      },
      "execution_count": null,
      "outputs": []
    },
    {
      "cell_type": "code",
      "source": [
        "#Power Generated (wh) by Month\n",
        "plt.style.use('ggplot')\n",
        "\n",
        "sns.barplot(data=region_date_gen_2019, \n",
        "            x='month', y='generation_wh',dodge=False,\n",
        "            hue='month',palette=sns.color_palette('icefire'))\n",
        "\n",
        "plt.xlabel('Month') \n",
        "plt.ylabel('Average Power Generated (wh)')   \n",
        "plt.title(\"Average Power Generated (wh) by Month\")\n",
        "plt.legend(bbox_to_anchor=(1.05, 1), loc=2, borderaxespad=0.)\n",
        "plt.show()"
      ],
      "metadata": {
        "id": "0OaISXDjkwkN"
      },
      "execution_count": null,
      "outputs": []
    },
    {
      "cell_type": "code",
      "source": [
        "plt.figure(figsize=(40,20))\n",
        "ax = sns.barplot(data=region_date_gen_2019, x='month', y='generation_wh',\n",
        "                 dodge=False,\n",
        "                 hue='month',palette=sns.color_palette('icefire'))\n",
        "\n",
        "plt.xlabel('Month') \n",
        "plt.ylabel('Average Power Generated (wh)')   \n",
        "plt.title(\"Average Power Generated (wh) by Month and District\")\n",
        "plt.legend(bbox_to_anchor=(1.05, 1), loc=2, borderaxespad=0.)\n",
        "plt.show()"
      ],
      "metadata": {
        "id": "HgDdz60zkwmz"
      },
      "execution_count": null,
      "outputs": []
    },
    {
      "cell_type": "code",
      "source": [
        "region_date_gen_2019.set_index('ss_id')\n",
        "metadata = metadata.set_index('ss_id')# converting table to pd dataframe\n",
        "\n",
        "# Combine data from table abouve with census data \n",
        "region_date_gen_loc_2019 = region_date_gen_2019.join(metadata, on='ss_id', how='left')\n",
        "region_date_gen_loc_2019.head(2)"
      ],
      "metadata": {
        "id": "uJUAqm4jkwpn"
      },
      "execution_count": null,
      "outputs": []
    },
    {
      "cell_type": "code",
      "source": [
        "#Creating a graph that will show Average power generation in the UK by month in 2019\n",
        "\n",
        "fig = px.scatter_geo(region_date_gen_loc_2019, lat=\"latitude_rounded\", lon=\"longitude_rounded\", color=\"generation_wh\",\n",
        "                     hover_name=\"ss_id\", size=\"generation_wh\",\n",
        "                     animation_frame=\"month\",\n",
        "                     projection=\"natural earth\",\n",
        "                     scope ='europe',\n",
        "                     color_continuous_scale=[\"blue\", \"purple\", \"red\"],\n",
        "                     center=dict(lat=region_date_gen_loc_2019.latitude_rounded.mean(), lon=region_date_gen_loc_2019.longitude_rounded.mean()))\n",
        "\n",
        "fig.update_traces(marker=dict(size=10))\n",
        "fig.update_layout(autosize=True,height=600,geo=dict(projection_scale=6))\n",
        "fig.show()"
      ],
      "metadata": {
        "id": "aNs43iKvkwsf"
      },
      "execution_count": null,
      "outputs": []
    },
    {
      "cell_type": "markdown",
      "source": [
        "### Plotting Average Energy Generation by day for 2019"
      ],
      "metadata": {
        "id": "etfC1_tgJqUq"
      }
    },
    {
      "cell_type": "code",
      "source": [
        "# Power generated per hour by region (2019)\n",
        "power_per_hour = region_date_gen_2019.groupby(['region','hour']).agg({'generation_wh': 'mean'}).reset_index()\n",
        "\n",
        "plt.figure(figsize=(40,20))\n",
        "ax = sns.barplot(data=power_per_hour, x='hour', y='generation_wh',hue='region', palette=sns.color_palette('icefire'))\n",
        "\n",
        "plt.xlabel('Hour') \n",
        "plt.ylabel('Average Power Generated (wh)')   \n",
        "plt.title(\"Average Power Generated (wh) by Hour and District\")\n",
        "plt.legend(bbox_to_anchor=(1.05, 1), loc=2, borderaxespad=0.)\n",
        "plt.show()"
      ],
      "metadata": {
        "id": "W1outmHUkwyT"
      },
      "execution_count": null,
      "outputs": []
    },
    {
      "cell_type": "code",
      "source": [
        "#Creating a graph that will show power generation in the UK by Hour and month\n",
        "\n",
        "fig = px.scatter_geo(region_date_gen_loc_2019, lat=\"latitude_rounded\", lon=\"longitude_rounded\", color=\"generation_wh\",\n",
        "                     hover_name=\"ss_id\", size=\"generation_wh\",\n",
        "                     animation_frame=\"hour\",\n",
        "                     projection=\"natural earth\",\n",
        "                     scope ='europe',\n",
        "                     color_continuous_scale=[\"blue\", \"purple\", \"red\"],\n",
        "                     center=dict(lat=region_date_gen_loc_2019.latitude_rounded.mean(), lon=region_date_gen_loc_2019.longitude_rounded.mean())\n",
        "                     )\n",
        "\n",
        "fig.update_traces(marker=dict(size=10))\n",
        "fig.update_layout(autosize=True,height=600,geo=dict(projection_scale=6))\n",
        "fig.show()"
      ],
      "metadata": {
        "id": "V03tCazDk63l"
      },
      "execution_count": null,
      "outputs": []
    }
  ]
}